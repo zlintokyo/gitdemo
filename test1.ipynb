{
  "cells": [
    {
      "cell_type": "code",
      "source": [
        "print(\"前処理を開始\")\n",
        "# !apt-get update\n",
        "# !apt install chromium-chromedriver\n",
        "# !cp /usr/lib/chromium-browser/chromedriver /usr/bin\n",
        "# !pip install selenium\n",
        "\n",
        "\n",
        "import time\n",
        "from selenium.webdriver.common.by import By\n",
        "from selenium import webdriver\n",
        "\n",
        "# ブラウザを開く。\n",
        "#driver = webdriver.Chrome(executable_path='/usr/lib/chromium-browser/chromedriver /usr/bin')\n",
        "options = webdriver.ChromeOptions()\n",
        "options.add_argument('--headless')\n",
        "options.add_argument('--no-sandbox')\n",
        "options.add_argument('--disable-dev-shm-usage')\n",
        "#ダウンロードフォルダに指定\n",
        "prefs = {\"profile.default_content_settings.popups\": 0,\n",
        "             \"download.default_directory\":r\"./drive/MyDrive\",\n",
        "             \"directory_upgrade\": False}\n",
        "options.add_experimental_option(\"prefs\", prefs)\n",
        "driver = webdriver.Chrome('chromedriver',options=options)\n",
        "# たまご相場\n",
        "driver.get('https://www.jz-tamago.co.jp/business/souba/')\n",
        "# 2秒待ちます\n",
        "time.sleep(2)\n",
        "#DL期間を設定、開始、終了\n",
        "driver.execute_script(\"\"\"\n",
        "   document.getElementsByName(\"souba_day_e\")[0].value = \"2022/06/09\";\n",
        "   document.getElementsByName(\"souba_day_s\")[0].value = \"2022/06/09\";\n",
        "\"\"\")\n",
        "#driver.find_element(by=By.XPATH, value='/html/body/div[5]/div[3]/div/div[1]/div/form[2]/div[1]/input').send_keys('2022/05/16')\n",
        "element = driver.find_element(by=By.XPATH, value='/html/body/div[5]/div[3]/div/div[1]/div/form[2]/div[1]/input')\n",
        "driver.find_element(by=By.XPATH, value='/html/body/div[5]/div[3]/div/div[1]/div/form[2]/div[2]/button[2]').click()\n",
        "time.sleep(5)\n",
        "print(element.get_attribute('value'))"
      ],
      "metadata": {
        "id": "ACIroraj0_YJ",
        "colab": {
          "base_uri": "https://localhost:8080/"
        },
        "outputId": "0ebdf240-b258-433c-b93b-21c98aa5a603"
      },
      "execution_count": null,
      "outputs": [
        {
          "output_type": "stream",
          "name": "stdout",
          "text": [
            "前処理を開始\n",
            "2022/06/09\n"
          ]
        }
      ]
    },
    {
      "cell_type": "code",
      "source": [
        "!pip install tabula-py\n",
        "import pandas as pd\n",
        "import tabula\n",
        "\n",
        "# lattice=Trueでテーブルの軸線でセルを判定\n",
        "dfs = tabula.read_pdf(\"drive/MyDrive/market.pdf\", lattice=True, pages = '1')\n",
        "i=1\n",
        "for df in dfs:\n",
        "    print(df)\n",
        "    print('**********************************************')\n",
        "    df.to_excel(\"PDFの表\"+str(i)+\".xlsx\", index=None) # Excel\n",
        "    i=i+1"
      ],
      "metadata": {
        "id": "jGb8QGu3_s_9",
        "colab": {
          "base_uri": "https://localhost:8080/"
        },
        "outputId": "b533ebf6-af70-4af3-99fb-141115816fea"
      },
      "execution_count": null,
      "outputs": [
        {
          "output_type": "stream",
          "name": "stdout",
          "text": [
            "Looking in indexes: https://pypi.org/simple, https://us-python.pkg.dev/colab-wheels/public/simple/\n",
            "Collecting tabula-py\n",
            "  Downloading tabula_py-2.4.0-py3-none-any.whl (12.0 MB)\n",
            "\u001b[K     |████████████████████████████████| 12.0 MB 4.9 MB/s \n",
            "\u001b[?25hRequirement already satisfied: numpy in /usr/local/lib/python3.7/dist-packages (from tabula-py) (1.21.6)\n",
            "Collecting distro\n",
            "  Downloading distro-1.7.0-py3-none-any.whl (20 kB)\n",
            "Requirement already satisfied: pandas>=0.25.3 in /usr/local/lib/python3.7/dist-packages (from tabula-py) (1.3.5)\n",
            "Requirement already satisfied: pytz>=2017.3 in /usr/local/lib/python3.7/dist-packages (from pandas>=0.25.3->tabula-py) (2022.1)\n",
            "Requirement already satisfied: python-dateutil>=2.7.3 in /usr/local/lib/python3.7/dist-packages (from pandas>=0.25.3->tabula-py) (2.8.2)\n",
            "Requirement already satisfied: six>=1.5 in /usr/local/lib/python3.7/dist-packages (from python-dateutil>=2.7.3->pandas>=0.25.3->tabula-py) (1.15.0)\n",
            "Installing collected packages: distro, tabula-py\n",
            "Successfully installed distro-1.7.0 tabula-py-2.4.0\n"
          ]
        },
        {
          "output_type": "stream",
          "name": "stderr",
          "text": [
            "Got stderr: Jun 13, 2022 5:04:13 AM org.apache.fontbox.ttf.CmapSubtable processSubtype14\n",
            "WARNING: Format 14 cmap table is not supported and will be ignored\n",
            "Jun 13, 2022 5:04:13 AM org.apache.fontbox.ttf.CmapSubtable processSubtype14\n",
            "WARNING: Format 14 cmap table is not supported and will be ignored\n",
            "\n"
          ]
        },
        {
          "output_type": "stream",
          "name": "stdout",
          "text": [
            "  Unnamed: 0     札幌 Unnamed: 1     東京 Unnamed: 2 Unnamed: 3 Unnamed: 4  \\\n",
            "0         規格     高値        標準値     安値        価格差        NaN         規格   \n",
            "1         LL      -          -      -          -        NaN         LL   \n",
            "2          L  277 円      255 円  249 円          /        NaN          L   \n",
            "3          M  277 円      255 円  249 円          /        NaN          M   \n",
            "4         MS  272 円      250 円  244 円          /        NaN         MS   \n",
            "5          S  242 円      220 円  214 円          /        NaN          S   \n",
            "6         SS      -          -      -          -        NaN         SS   \n",
            "7         特殊  297 円      275 円  130 円          /        NaN         特殊   \n",
            "8         市況     保合        NaN     市況        NaN         保合        NaN   \n",
            "9        入荷量    NaN       760t    NaN        NaN        NaN        NaN   \n",
            "\n",
            "   Unnamed: 5 Unnamed: 6 Unnamed: 7  \n",
            "0         NaN        標準値        価格差  \n",
            "1         NaN      210 円          /  \n",
            "2         NaN      215 円          /  \n",
            "3         NaN      215 円          /  \n",
            "4         NaN      210 円          /  \n",
            "5         NaN      195 円          /  \n",
            "6         NaN      144 円      #REF!  \n",
            "7         NaN          -          -  \n",
            "8         NaN        NaN        NaN  \n",
            "9         NaN        NaN        NaN  \n",
            "**********************************************\n",
            "   大阪 Unnamed: 0 Unnamed: 1\n",
            "0  規格        標準値        価格差\n",
            "1  LL      200 円          /\n",
            "2   L      210 円          /\n",
            "3   M      215 円          /\n",
            "4  MS      215 円          /\n",
            "5   S      200 円          /\n",
            "6  SS      144 円          /\n",
            "7  特殊          -          -\n",
            "8  市況         保合        NaN\n",
            "**********************************************\n"
          ]
        }
      ]
    },
    {
      "cell_type": "code",
      "source": [
        "import requests\n",
        "import json\n",
        "\n",
        "r = requests.get('https://nikkei225jp.com/chart/')\n",
        "text = r.text\n",
        "date    = text.split('<div class=wtimeT>')[1].split('</div>')[0]\n",
        "nikkei   = text.split('<div class=if_cur>')[1].split('</div>')[0].replace(',','')\n",
        "dau       = text.split('<div class=if_cur>')[2].split('</div>')[0].replace(',','')\n",
        "kawase = text.split('<div class=if_cur>')[3].split('</div>')[0].replace(',','')\n",
        "\n",
        "print('今日は',date,'です')\n",
        "print ('日経株価は ',nikkei, '円です')\n",
        "print ('ダウ平均株価は', dau, '円です')\n",
        "print ('為替ドルは', kawase,'円です')\n",
        "\n",
        "a=open('shares.csv','w')\n",
        "a.write('日時,日経平均株価,ダウ平均株価,為替ドル\\n')\n",
        "a.write(date+','+nikkei+','+dau+','+kawase+'\\n')\n",
        "a.close()"
      ],
      "metadata": {
        "id": "5AsNRHqztWBA",
        "colab": {
          "base_uri": "https://localhost:8080/"
        },
        "outputId": "ced0f5ee-a8f1-4ce3-b0c2-d055d6c2c2bc"
      },
      "execution_count": null,
      "outputs": [
        {
          "output_type": "stream",
          "name": "stdout",
          "text": [
            "今日は 2022/6/13 です\n",
            "日経株価は  26987.44 円です\n",
            "ダウ平均株価は 31392.79 円です\n",
            "為替ドルは 134.61 円です\n"
          ]
        }
      ]
    },
    {
      "cell_type": "code",
      "source": [
        "input(\"\\n\\n按下 enter 键后退出。\")"
      ],
      "metadata": {
        "colab": {
          "base_uri": "https://localhost:8080/",
          "height": 90
        },
        "id": "Su8WaDqs52xz",
        "outputId": "b1571937-4368-4dfa-e483-50d3e1adc461"
      },
      "execution_count": null,
      "outputs": [
        {
          "name": "stdout",
          "output_type": "stream",
          "text": [
            "\n",
            "\n",
            "按下 enter 键后退出。abc\n"
          ]
        },
        {
          "output_type": "execute_result",
          "data": {
            "text/plain": [
              "'abc'"
            ],
            "application/vnd.google.colaboratory.intrinsic+json": {
              "type": "string"
            }
          },
          "metadata": {},
          "execution_count": 11
        }
      ]
    },
    {
      "cell_type": "code",
      "source": [
        "#Chromiumとseleniumをインストール\n",
        "print(\"前処理を開始\")\n",
        "!apt-get update\n",
        "!apt-get install xvfb\n",
        "!apt install chromium-chromedriver\n",
        "!cp /usr/lib/chromium-browser/chromedriver /usr/bin\n",
        "!pip install selenium\n",
        "!pip install pyvirtualdisplay\n",
        "!pip install xvfbwrapper\n",
        "\n",
        "import pyvirtualdisplay\n",
        "import selenium\n",
        "import selenium.webdriver\n",
        "import time\n",
        "import base64\n",
        "import json\n",
        "\n",
        "root_url = 'https://www.google.com'\n",
        "download_url = 'https://www.google.com/images/branding/googlelogo/2x/googlelogo_color_272x92dp.png'\n",
        "\n",
        "print('Opening virtual display')\n",
        "display = pyvirtualdisplay.Display(visible=0, size=(1024, 768))\n",
        "display.start()\n",
        "print('\\tDone')\n",
        "\n",
        "print('Opening web browser')\n",
        "options = selenium.webdriver.ChromeOptions()\n",
        "options.add_argument('--headless')\n",
        "options.add_argument('--no-sandbox')\n",
        "options.add_argument('--disable-dev-shm-usage')\n",
        "#driver = selenium.webdriver.Firefox()\n",
        "driver = selenium.webdriver.Chrome('chromedriver',options=options)\n",
        "print('\\tDone')\n",
        "\n",
        "print('Retrieving initial web page')\n",
        "driver.get(root_url)\n",
        "print('\\tDone')\n",
        "\n",
        "print('Injecting retrieval code into web page')\n",
        "driver.execute_script(\"\"\"\n",
        "    window.file_contents = null;\n",
        "    var xhr = new XMLHttpRequest();\n",
        "    xhr.responseType = 'blob';\n",
        "    xhr.onload = function() {\n",
        "        var reader  = new FileReader();\n",
        "        reader.onloadend = function() {\n",
        "            window.file_contents = reader.result;\n",
        "        };\n",
        "        reader.readAsDataURL(xhr.response);\n",
        "    };\n",
        "    xhr.open('GET', %(download_url)s);\n",
        "    xhr.send();\n",
        "\"\"\".replace('\\r\\n', ' ').replace('\\r', ' ').replace('\\n', ' ') % {\n",
        "    'download_url': json.dumps(download_url),\n",
        "})\n",
        "\n",
        "print('Looping until file is retrieved')\n",
        "downloaded_file = None\n",
        "while downloaded_file is None:\n",
        "    # Returns the file retrieved base64 encoded (perfect for downloading binary)\n",
        "    downloaded_file = driver.execute_script('return (window.file_contents !== null ? window.file_contents.split(\\',\\')[1] : null);')\n",
        "    print(downloaded_file)\n",
        "    if not downloaded_file:\n",
        "        print('\\tNot downloaded, waiting...')\n",
        "        time.sleep(0.1)\n",
        "print('\\tDone')\n",
        "\n",
        "print('Writing file to disk')\n",
        "fp = open(r'./drive/MyDrive/egoogle-logo.png', 'wb')\n",
        "fp.write(base64.b64decode(downloaded_file))\n",
        "fp.close()\n",
        "print('\\tDone')\n",
        "driver.close() # close web browser, or it'll persist after python exits.\n",
        "#display.popen.kill() # close virtual display, or it'll persist after python exits."
      ],
      "metadata": {
        "id": "cKP1CdIt2eS-"
      },
      "execution_count": null,
      "outputs": []
    },
    {
      "cell_type": "code",
      "source": [
        "!pip install -U openpyxl\n",
        "# openpyxlを読み込む\n",
        "import openpyxl\n",
        "\n",
        "# ワークブックの頭文字から変数wbを定義\n",
        "wb = openpyxl.Workbook() # Excelファイル(.xlsx)を作成するために、新規でワークブックを作成する\n",
        "# ワークブックの保存（Excelファイルの保存）\n",
        "wb.save('drive/MyDrive/sample.xlsx')"
      ],
      "metadata": {
        "colab": {
          "base_uri": "https://localhost:8080/"
        },
        "id": "uvszs0MHOFK8",
        "outputId": "6fcd3df9-34c1-4dce-99e4-9ea815766174"
      },
      "execution_count": null,
      "outputs": [
        {
          "output_type": "stream",
          "name": "stdout",
          "text": [
            "Looking in indexes: https://pypi.org/simple, https://us-python.pkg.dev/colab-wheels/public/simple/\n",
            "Requirement already satisfied: openpyxl in /usr/local/lib/python3.7/dist-packages (3.0.10)\n",
            "Requirement already satisfied: et-xmlfile in /usr/local/lib/python3.7/dist-packages (from openpyxl) (1.1.0)\n"
          ]
        }
      ]
    },
    {
      "cell_type": "code",
      "source": [
        "def person(name, age, **kw):\n",
        "    print('name:', name, 'age:', age, 'other:', kw)\n",
        "\n",
        "person('Bob', 35, a='Beijing',b=40)\n",
        "print(sorted([36, 5, -12, 9, -21]))\n",
        "f = lambda x: x * x\n",
        "f\n",
        "\n",
        "def log(func):\n",
        "    def aa(*args, **kw):\n",
        "        print('call %s():' % func.__name__)\n",
        "        return func(*args, **kw)\n",
        "    return aa\n",
        "\n",
        "@log\n",
        "def now():\n",
        "    print('2015-3-25')\n",
        "now()"
      ],
      "metadata": {
        "colab": {
          "base_uri": "https://localhost:8080/"
        },
        "id": "jzYLkBuw4pGE",
        "outputId": "dc72895d-70b7-49f5-a08f-499c2acf7d7f"
      },
      "execution_count": null,
      "outputs": [
        {
          "output_type": "stream",
          "name": "stdout",
          "text": [
            "name: Bob age: 35 other: {'a': 'Beijing', 'b': 40}\n",
            "[-21, -12, 5, 9, 36]\n",
            "call now():\n",
            "2015-3-25\n"
          ]
        }
      ]
    }
  ],
  "metadata": {
    "colab": {
      "provenance": []
    },
    "kernelspec": {
      "display_name": "Python 3",
      "name": "python3"
    },
    "language_info": {
      "name": "python"
    }
  },
  "nbformat": 4,
  "nbformat_minor": 0
}